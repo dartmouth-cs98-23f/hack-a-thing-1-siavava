{
 "cells": [
  {
   "cell_type": "code",
   "execution_count": 12,
   "metadata": {},
   "outputs": [],
   "source": [
    "# import display markdown\n",
    "from IPython.display import Markdown, display"
   ]
  },
  {
   "cell_type": "code",
   "execution_count": 19,
   "metadata": {},
   "outputs": [
    {
     "data": {
      "text/markdown": [
       "\n",
       "  # Tiny Shakespeare Dataset\n",
       "  | Metrix | Value |\n",
       "  | --- | --- |\n",
       "  | Number of characters | 1115394 |\n",
       "  | Number of unique characters | 65 |\n",
       "  | Number of lines | 40000 |\n",
       "  | Number of words | 202651 |\n",
       "  "
      ],
      "text/plain": [
       "<IPython.core.display.Markdown object>"
      ]
     },
     "metadata": {},
     "output_type": "display_data"
    }
   ],
   "source": [
    "# import datasets\n",
    "\n",
    "# # load tiny shakespeare dataset\n",
    "# # dataset = datasets.load_dataset('tiny_shakespeare', cache_dir=\"cache\")\n",
    "\n",
    "with open(\"data/input.txt\", \"r\") as f:\n",
    "  text = f.read()\n",
    "\n",
    "display(Markdown(f\"\"\"\n",
    "  # Tiny Shakespeare Dataset\n",
    "  | Metrix | Value |\n",
    "  | --- | --- |\n",
    "  | Number of characters | {len(text)} |\n",
    "  | Number of unique characters | {len(set(text))} |\n",
    "  | Number of lines | {len(text.splitlines())} |\n",
    "  | Number of words | {len(text.split())} |\n",
    "  \"\"\")\n",
    ")\n"
   ]
  },
  {
   "cell_type": "code",
   "execution_count": 24,
   "metadata": {},
   "outputs": [
    {
     "data": {
      "text/markdown": [
       "\n",
       "  # Encoding and Decoding\n",
       "  | Text | Encoded | Decoded |\n",
       "  | --- | --- | --- |\n",
       "  | First Citi | [18, 47, 56, 57, 58, 1, 15, 47, 58, 47] | First Citi |\n",
       "  | t waking. | [58, 1, 61, 39, 49, 47, 52, 45, 8, 0] | t waking.\n",
       " |\n",
       "                 \n",
       "  "
      ],
      "text/plain": [
       "<IPython.core.display.Markdown object>"
      ]
     },
     "metadata": {},
     "output_type": "display_data"
    }
   ],
   "source": [
    "STOI = {ch: i for i, ch in enumerate(sorted(set(text)))}\n",
    "ITOS = {i: ch for ch, i in STOI.items()}\n",
    "\n",
    "def encode(text: str):\n",
    "  return [STOI[ch] for ch in text]\n",
    "\n",
    "def decode(indices: list):\n",
    "  return ''.join(ITOS[i] for i in indices)\n",
    "\n",
    "display(Markdown(f\"\"\"\n",
    "  # Encoding and Decoding\n",
    "  | Text | Encoded | Decoded |\n",
    "  | --- | --- | --- |\n",
    "  | {text[:10]} | {encode(text[:10])} | {decode(encode(text[:10]))} |\n",
    "  | {text[-10:-1]} | {encode(text[-10:])} | {decode(encode(text[-10:]))} |\n",
    "                 \n",
    "  \"\"\"))"
   ]
  },
  {
   "cell_type": "code",
   "execution_count": 26,
   "metadata": {},
   "outputs": [
    {
     "data": {
      "text/plain": [
       "tensor([18., 47., 56., 57., 58.,  1., 15., 47., 58., 47., 64., 43., 52., 10.,\n",
       "         0., 14., 43., 44., 53., 56., 43.,  1., 61., 43.,  1., 54., 56., 53.,\n",
       "        41., 43., 43., 42.,  1., 39., 52., 63.,  1., 44., 59., 56., 58., 46.,\n",
       "        43., 56.,  6.,  1., 46., 43., 39., 56.,  1., 51., 43.,  1., 57., 54.,\n",
       "        43., 39., 49.,  8.,  0.,  0., 13., 50., 50., 10.,  0., 31., 54., 43.,\n",
       "        39., 49.,  6.,  1., 57., 54., 43., 39., 49.,  8.,  0.,  0., 18., 47.,\n",
       "        56., 57., 58.,  1., 15., 47., 58., 47., 64., 43., 52., 10.,  0., 37.,\n",
       "        53., 59.])"
      ]
     },
     "execution_count": 26,
     "metadata": {},
     "output_type": "execute_result"
    }
   ],
   "source": [
    "import torch\n",
    "data = torch.Tensor(encode(text))\n",
    "data[:100]"
   ]
  },
  {
   "cell_type": "code",
   "execution_count": 27,
   "metadata": {},
   "outputs": [
    {
     "data": {
      "text/markdown": [
       "\n",
       "  # Train and Validation Data\n",
       "  | Data | Length |\n",
       "  | --- | --- |\n",
       "  | Train | 892315 |\n",
       "  | Validation | 223079 |\n",
       "  | **Total** | **1115394** |\n"
      ],
      "text/plain": [
       "<IPython.core.display.Markdown object>"
      ]
     },
     "metadata": {},
     "output_type": "display_data"
    }
   ],
   "source": [
    "split = int(len(data) * 0.8)\n",
    "train_data = data[:split]\n",
    "val_data = data[split:]\n",
    "\n",
    "display(Markdown(f\"\"\"\n",
    "  # Train and Validation Data\n",
    "  | Data | Length |\n",
    "  | --- | --- |\n",
    "  | Train | {len(train_data)} |\n",
    "  | Validation | {len(val_data)} |\n",
    "  | **Total** | **{len(train_data) + len(val_data)}** |\n",
    "\"\"\"))"
   ]
  },
  {
   "cell_type": "code",
   "execution_count": 36,
   "metadata": {},
   "outputs": [
    {
     "data": {
      "text/markdown": [
       "\n",
       "  # Batch Data\n",
       "  | Data | Shape |\n",
       "  | --- | --- |\n",
       "  | Inputs | torch.Size([4, 8]) |\n",
       "  | Targets | torch.Size([4, 8]) |\n",
       "\n",
       "  Inputs: tensor([[58., 63.,  8.,  0.,  0., 19., 24., 27.],\n",
       "        [39., 59., 45., 46., 58.,  1., 46., 43.],\n",
       "        [49., 43., 57.,  1., 53., 50., 42.,  1.],\n",
       "        [52., 41., 47., 43., 52., 58.,  1., 56.]])  \n",
       "  Targets: tensor([[63.,  8.,  0.,  0., 19., 24., 27., 33.],\n",
       "        [59., 45., 46., 58.,  1., 46., 43.,  1.],\n",
       "        [43., 57.,  1., 53., 50., 42.,  1., 46.],\n",
       "        [41., 47., 43., 52., 58.,  1., 56., 47.]]) \n"
      ],
      "text/plain": [
       "<IPython.core.display.Markdown object>"
      ]
     },
     "metadata": {},
     "output_type": "display_data"
    }
   ],
   "source": [
    "\n",
    "torch.manual_seed(1337)       # Set the random seed for reproducibility\n",
    "CONTEXT_LENGTH = 8            # Maximum context length.\n",
    "BATCH_SIZE = 4                # Number of independent sequences to train on in parallel\n",
    "\n",
    "def get_batch(split: str):\n",
    "  data = train_data if split == 'train' else val_data\n",
    "  start_idx = torch.randint(0, len(data) - CONTEXT_LENGTH, (BATCH_SIZE,))\n",
    "  end_idx = start_idx + CONTEXT_LENGTH\n",
    "  inputs = [data[start:end] for start, end in zip(start_idx, end_idx)]\n",
    "  targets = [data[start+1:end+1] for start, end in zip(start_idx, end_idx)]\n",
    "  return torch.stack(inputs), torch.stack(targets)\n",
    "\n",
    "inputs, targets = get_batch('train')\n",
    "display(Markdown(f\"\"\"\n",
    "  # Batch Data\n",
    "  | Data | Shape |\n",
    "  | --- | --- |\n",
    "  | Inputs | {inputs.shape} |\n",
    "  | Targets | {targets.shape} |\n",
    "\n",
    "  Inputs: {inputs}  \n",
    "  Targets: {targets} \n",
    "\"\"\"))"
   ]
  },
  {
   "cell_type": "code",
   "execution_count": null,
   "metadata": {},
   "outputs": [],
   "source": []
  }
 ],
 "metadata": {
  "kernelspec": {
   "display_name": "torch",
   "language": "python",
   "name": "python3"
  },
  "language_info": {
   "codemirror_mode": {
    "name": "ipython",
    "version": 3
   },
   "file_extension": ".py",
   "mimetype": "text/x-python",
   "name": "python",
   "nbconvert_exporter": "python",
   "pygments_lexer": "ipython3",
   "version": "3.10.10"
  },
  "orig_nbformat": 4
 },
 "nbformat": 4,
 "nbformat_minor": 2
}
