{
 "cells": [
  {
   "cell_type": "code",
   "execution_count": 1,
   "metadata": {},
   "outputs": [
    {
     "name": "stdout",
     "output_type": "stream",
     "text": [
      "device = 'cpu'\n"
     ]
    }
   ],
   "source": [
    "#? load scripts from transformer.py\n",
    "from transformer import device, torch, decode, GPTLanguageModel\n",
    "\n",
    "print(f\"{device = }\")\n",
    "\n",
    "# import torch\n",
    "# torch.manual_seed(seed)"
   ]
  },
  {
   "cell_type": "code",
   "execution_count": 2,
   "metadata": {},
   "outputs": [
    {
     "name": "stdout",
     "output_type": "stream",
     "text": [
      "10.788929 M parameters\n"
     ]
    }
   ],
   "source": [
    "model = GPTLanguageModel()\n",
    "\n",
    "# load last checkpoint\n",
    "model.load_state_dict(torch.load(\"models/transfusion.pth\", map_location=device))\n",
    "\n",
    "# cast model to device (CPU or GPU)\n",
    "model = model.to(device)\n",
    "\n",
    "# print the number of parameters in the model\n",
    "print(sum(p.numel() for p in model.parameters())/1e6, 'M parameters')\n",
    "\n",
    "previous_checkpoints = \"\"\"\n",
    "step   500: train loss 1.9852, val loss 2.0854\n",
    "step  1000: train loss 1.5326, val loss 1.7191\n",
    "step  1500: train loss 1.3869, val loss 1.6099\n",
    "step  2000: train loss 1.3012, val loss 1.5393\n",
    "step  2500: train loss 1.2449, val loss 1.5051\n",
    "step  3000: train loss 1.1984, val loss 1.5058\n",
    "step  3500: train loss 1.1602, val loss 1.4954\n",
    "step  4000: train loss 1.1232, val loss 1.4904\n",
    "\"\"\"\n",
    "# print(previous_checkpoints)\n",
    "\n",
    "# model.train_model(\"transfusion\", checkpoint=4000)"
   ]
  },
  {
   "cell_type": "markdown",
   "metadata": {},
   "source": []
  },
  {
   "cell_type": "code",
   "execution_count": 8,
   "metadata": {},
   "outputs": [
    {
     "name": "stdout",
     "output_type": "stream",
     "text": [
      "\n",
      "The offects are walking for they are mine heir's wolth:\n",
      "She end them lips of my gages,\n",
      "The world's dearth, or no three of otwens;\n",
      "Ran in the man, even\n"
     ]
    }
   ],
   "source": [
    "# generate from the model\n",
    "context = torch.zeros((1, 1), dtype=torch.long, device=device)\n",
    "# print(decode(model.generate(context, max_new_tokens=150)[0].tolist()))\n",
    "\n",
    "# with open('examples/more.txt', 'w') as f:\n",
    "#   text = decode(model.generate(context, max_new_tokens=10000)[0].tolist())\n",
    "#   f.write(text)\n",
    "\n",
    "generated = model.generate(context, max_new_tokens=150)\n",
    "print(decode(generated[0].tolist()))"
   ]
  },
  {
   "cell_type": "code",
   "execution_count": 9,
   "metadata": {},
   "outputs": [
    {
     "name": "stdout",
     "output_type": "stream",
     "text": [
      "\n",
      "The offects are walking for they are mine heir's wolth:\n",
      "She end them lips of my gages,\n",
      "The world's dearth, or no three of otwens;\n",
      "Ran in the man, even name did but a trumpet\n",
      "Lip was that England's hand. Come, she's the warm\n",
      "That was an honour that head;\n",
      "Here in Verona effused the certa's many-law,\n",
      "S\n"
     ]
    }
   ],
   "source": [
    "context = generated\n",
    "generated = model.generate(context, max_new_tokens=150)\n",
    "print(decode(generated[0].tolist()))"
   ]
  },
  {
   "cell_type": "code",
   "execution_count": 10,
   "metadata": {},
   "outputs": [
    {
     "name": "stdout",
     "output_type": "stream",
     "text": [
      "\n",
      "The offects are walking for they are mine heir's wolth:\n",
      "She end them lips of my gages,\n",
      "The world's dearth, or no three of otwens;\n",
      "Ran in the man, even name did but a trumpet\n",
      "Lip was that England's hand. Come, she's the warm\n",
      "That was an honour that head;\n",
      "Here in Verona effused the certa's many-law,\n",
      "So I that his name of mine air,\n",
      "That whose sudden eachmongings is frost his squeen;\n",
      "Lest we have burging as inyvalour,\n",
      "Bmefore 'gentle mouting approach\n"
     ]
    }
   ],
   "source": [
    "context = generated\n",
    "generated = model.generate(context, max_new_tokens=150)\n",
    "print(decode(generated[0].tolist()))"
   ]
  }
 ],
 "metadata": {
  "kernelspec": {
   "display_name": "torch",
   "language": "python",
   "name": "python3"
  },
  "language_info": {
   "codemirror_mode": {
    "name": "ipython",
    "version": 3
   },
   "file_extension": ".py",
   "mimetype": "text/x-python",
   "name": "python",
   "nbconvert_exporter": "python",
   "pygments_lexer": "ipython3",
   "version": "3.10.10"
  },
  "orig_nbformat": 4
 },
 "nbformat": 4,
 "nbformat_minor": 2
}
