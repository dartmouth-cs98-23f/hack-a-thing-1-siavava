{
 "cells": [
  {
   "cell_type": "code",
   "execution_count": 1,
   "metadata": {},
   "outputs": [
    {
     "name": "stdout",
     "output_type": "stream",
     "text": [
      "device = 'cuda'\n"
     ]
    }
   ],
   "source": [
    "#? load scripts from transformer.py\n",
    "from transformer import device, torch, decode, GPTLanguageModel\n",
    "\n",
    "print(f\"{device = }\")\n",
    "\n",
    "# import torch\n",
    "# torch.manual_seed(seed)"
   ]
  },
  {
   "cell_type": "code",
   "execution_count": 2,
   "metadata": {},
   "outputs": [
    {
     "name": "stdout",
     "output_type": "stream",
     "text": [
      "10.788929 M parameters\n",
      "\n",
      "step   500: train loss 1.9852, val loss 2.0854\n",
      "step  1000: train loss 1.5326, val loss 1.7191\n",
      "step  1500: train loss 1.3869, val loss 1.6099\n",
      "step  2000: train loss 1.3012, val loss 1.5393\n",
      "step  2500: train loss 1.2449, val loss 1.5051\n",
      "step  3000: train loss 1.1984, val loss 1.5058\n",
      "step  3500: train loss 1.1602, val loss 1.4954\n",
      "step  4000: train loss 1.1232, val loss 1.4904\n",
      "\n",
      "step  4000: train loss 1.1255, val loss 1.4949\n",
      "step  4500: train loss 1.0882, val loss 1.4935\n",
      "step  4999: train loss 1.0633, val loss 1.4974\n"
     ]
    }
   ],
   "source": [
    "model = GPTLanguageModel()\n",
    "# load last checkpoint\n",
    "model.load_state_dict(torch.load(\"models/transfusion-4000.pth\"))\n",
    "\n",
    "model = model.to(device)\n",
    "# print the number of parameters in the model\n",
    "print(sum(p.numel() for p in model.parameters())/1e6, 'M parameters')\n",
    "\n",
    "previous_checkpoints = \"\"\"\n",
    "step   500: train loss 1.9852, val loss 2.0854\n",
    "step  1000: train loss 1.5326, val loss 1.7191\n",
    "step  1500: train loss 1.3869, val loss 1.6099\n",
    "step  2000: train loss 1.3012, val loss 1.5393\n",
    "step  2500: train loss 1.2449, val loss 1.5051\n",
    "step  3000: train loss 1.1984, val loss 1.5058\n",
    "step  3500: train loss 1.1602, val loss 1.4954\n",
    "step  4000: train loss 1.1232, val loss 1.4904\n",
    "\"\"\"\n",
    "print(previous_checkpoints)\n",
    "\n",
    "model.train_model(\"transfusion\", checkpoint=4000)"
   ]
  },
  {
   "cell_type": "code",
   "execution_count": 3,
   "metadata": {},
   "outputs": [
    {
     "name": "stdout",
     "output_type": "stream",
     "text": [
      "\n",
      "Kindly well; we would have wrainted yes, not fear;\n",
      "In thought to dreadful, and bodem as he:\n",
      "As will, As if thou Ravenspecr come.\n",
      "\n",
      "NORTHUMBERLAND:\n",
      "Well, well.\n",
      "\n",
      "Now, Catesby:\n",
      "Train, in Londone of my sorrow\n",
      "With a word subjects I'll charge hurthen my\n",
      "And myself, three my from, wherefore, nor I am no figed\n",
      "That thus with his asury we lead, when I boar\n",
      "The lands of bear'd your defence against your heleQueeel,\n",
      "As o's noble Rivery's hastile druth wrought in our rudouble,\n",
      "There Siciliam Braterford, and \n"
     ]
    }
   ],
   "source": [
    "# generate from the model\n",
    "context = torch.zeros((1, 1), dtype=torch.long, device=device)\n",
    "print(decode(model.generate(context, max_new_tokens=500)[0].tolist()))\n",
    "#open('more.txt', 'w').write(decode(m.generate(context, max_new_tokens=10000)[0].tolist()))\n"
   ]
  }
 ],
 "metadata": {
  "kernelspec": {
   "display_name": "torch",
   "language": "python",
   "name": "python3"
  },
  "language_info": {
   "codemirror_mode": {
    "name": "ipython",
    "version": 3
   },
   "file_extension": ".py",
   "mimetype": "text/x-python",
   "name": "python",
   "nbconvert_exporter": "python",
   "pygments_lexer": "ipython3",
   "version": "3.11.3"
  },
  "orig_nbformat": 4
 },
 "nbformat": 4,
 "nbformat_minor": 2
}
